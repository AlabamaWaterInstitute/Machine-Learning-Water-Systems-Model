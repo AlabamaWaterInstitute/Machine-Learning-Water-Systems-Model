{
 "cells": [
  {
   "cell_type": "code",
   "execution_count": null,
   "id": "996d9ede",
   "metadata": {},
   "outputs": [],
   "source": [
    "#my python module\n",
    "import XGB_Model\n",
    "from pathlib import Path\n",
    "import pandas as pd\n",
    "%matplotlib inline\n",
    "import warnings\n",
    "warnings.filterwarnings(\"ignore\")"
   ]
  },
  {
   "cell_type": "code",
   "execution_count": null,
   "id": "atlantic-vancouver",
   "metadata": {},
   "outputs": [],
   "source": [
    "\n",
    "#This is the final dataset to make predictions on\n",
    "p = Path('GS_Simulations')\n",
    "\n",
    "Sims = {i.stem[0:8] : pd.read_excel(i, skiprows = 5) for i in p.glob('**/*.xlsx')}\n",
    "\n"
   ]
  },
  {
   "cell_type": "code",
   "execution_count": null,
   "id": "copyrighted-shore",
   "metadata": {
    "scrolled": true
   },
   "outputs": [],
   "source": [
    "'''\n",
    "A list of all of the model input features and the target.\n",
    "Data takes in Goldsim simulations and splits them into training/testing.\n",
    "Each simulation is the same for the training period (2000-2020)\n",
    "Testing data varies based on climate scenario (Ave_Clim, Dro_Clim, Sur_Clim)\n",
    "\n",
    "The data processing also adds a few features (the previous time steps target values and time variables)\n",
    "'''\n",
    "feat = [\n",
    "    #Time\n",
    "    'DOY' , 'Month',\n",
    "    #Streamflow , \n",
    "     'SLCDPU_Surface_Supplies','BCC_Streamflow',  'LCC_Streamflow','Dell_Streamflow',\n",
    "    'Lambs_Streamflow', 'CC_Streamflow',\n",
    "    #Demands \n",
    "    'SLCDPU_Prod_Demands','SLCDPU_DC_Water_Use_Initial','SLCDPU_GW_Initial', \n",
    "    #Reservoir Levels\n",
    "   'Mtn_Dell_Percent_Full_Initial','LittleDell_Percent_Full_Initial']\n",
    "\n",
    "'''\n",
    "select your target you want to train a model for:\n",
    "(SLCDPU_GW, Mtn_Dell_Percent_Full, LittleDell_Percent_Full, SLCDPU_DC_Water_Use)\n",
    "\n",
    "'''\n",
    "\n",
    "targ = ['Mtn_Dell_Percent_Full'] \n",
    "\n",
    "\n",
    "#load Data processing module\n",
    "DataProcc = XGB_Model.XGB_Tuning()\n",
    "\n",
    "#Load in data and process accordingly\n",
    "DataProcc.ProcessData(Sims, 'Obs_Dry', feat, targ, 2021, False, allData = True)\n",
    "\n",
    "'''\n",
    "This step check to collinearity among features.\n",
    "In the instance feature collinearity exceeds the threshold (col_threashold),\n",
    "the lesser correlated feature to the target will be removed.\n",
    "These remaining features go to the next step, Recursive Feature Elimination\n",
    "\n",
    "'''\n",
    "\n",
    "DataProcc.CollinearityRemoval(col_threshold= .9)\n"
   ]
  },
  {
   "cell_type": "code",
   "execution_count": null,
   "id": "distributed-hearts",
   "metadata": {
    "scrolled": false
   },
   "outputs": [],
   "source": [
    "'''\n",
    "This step uses recursive feature elimination to identify the optimial features for the XGBoost\n",
    "algorithm and the specific water system target. The function searches from 2 features to the maximum \n",
    "collinearity check features to determint the optimial targets features.\n",
    "'''\n",
    "#Run RFE feature selection to identify good features\n",
    "DataProcc.FeatureSelection()\n",
    "\n",
    "#from thorough analysis and testing, use these identified features\n",
    "DataProcc.Feature_Optimization()"
   ]
  },
  {
   "cell_type": "code",
   "execution_count": null,
   "id": "18a8a04c",
   "metadata": {},
   "outputs": [],
   "source": [
    "\n",
    "#Identify optimal water system component Parameters\n",
    "#Any range can be used, however the following are optimized.\n",
    "\n",
    "if targ[0] =='Mtn_Dell_Percent_Full':  #Excellent good.\n",
    "    parameters = {\n",
    "                  'nthread':[-1], #my identified features, prev\n",
    "                  'objective':['reg:squarederror'],\n",
    "                  'learning_rate': [1], #0.1, 0.3\n",
    "                  'max_depth': [3], #4,5\n",
    "                  'min_child_weight': [1], #6,4\n",
    "                  'subsample': [0.9], #0.7,0.9\n",
    "                  'colsample_bytree': [0.8], #0.8\n",
    "                  \"reg_lambda\":[1.5], #1,1\n",
    "                  'reg_alpha': [1.5],  #0,0\n",
    "                  'n_estimators': [750], #375,350\n",
    "                   'n_jobs':[-1]\n",
    "                                       }\n",
    "\n",
    "if targ[0] =='LittleDell_Percent_Full':  #Very good!, note, below params are for feature subsets\n",
    "    parameters = {\n",
    "                  'nthread':[-1], #when use hyperthread, xgboost may become slower\n",
    "                  'objective':['reg:squarederror'],\n",
    "                  'learning_rate': [ .4], #0.5 , 0.01, 0.4\n",
    "                  'max_depth': [3], #3, 5 , 3\n",
    "                  'min_child_weight': [4], #4 , 4, 4\n",
    "                  'subsample': [0.8], #0.8, 0.5 , 0.8\n",
    "                  'colsample_bytree': [0.8], #0.8, 0.8, 0.8\n",
    "                  \"reg_lambda\":[0], #0,1 ,0\n",
    "                  'reg_alpha': [0], #0,0, 0\n",
    "                  'n_estimators': [20000], #1900, 500, 20000\n",
    "                   'n_jobs':[-1]\n",
    "                                       }\n",
    "if targ[0] =='SLCDPU_DC_Water_Use':  #Good!\n",
    "    parameters = {\n",
    "                  'nthread':[-1], #when use hyperthread, xgboost may become slower\n",
    "          'objective':['reg:squarederror'],\n",
    "          'learning_rate': [.3], # 0.3 is good too\n",
    "          'max_depth': [3], #3\n",
    "          'min_child_weight': [8], #8\n",
    "          'subsample': [0.8], #,0.8 is good\n",
    "          'colsample_bytree': [0.8], #0.8 is good.\n",
    "          \"reg_lambda\":[0], #0\n",
    "          'reg_alpha': [0], #0\n",
    "          'n_estimators': [20000],#10000, 20000 is good too\n",
    "           'n_jobs':[-1]\n",
    "                                       }\n",
    "\n",
    "if targ[0] =='SLCDPU_GW':\n",
    "    parameters = {\n",
    "                  'nthread':[-1], #when use hyperthread, xgboost may become slower\n",
    "                  'objective':['reg:squarederror'],\n",
    "                  'learning_rate': [0.3], #0.3\n",
    "                  'max_depth': [3], #3\n",
    "                  'min_child_weight': [6], #6\n",
    "                  'subsample': [0.6], #0.6\n",
    "                  'colsample_bytree': [0.6], #0.6\n",
    "                  \"reg_lambda\":[0], #0\n",
    "                  'reg_alpha': [0], #0\n",
    "                  'n_estimators': [500], #500\n",
    "                   'n_jobs':[-1]\n",
    "                                       }\n",
    "\n",
    "\n",
    "\n",
    "\n",
    "#using the respective parameters, identifiy the optimal hyper-parameters the respective XGBoost model\n",
    "DataProcc.GridSearch(parameters) \n"
   ]
  },
  {
   "cell_type": "code",
   "execution_count": null,
   "id": "26be2094",
   "metadata": {},
   "outputs": [],
   "source": [
    "#set directory to save model\n",
    "M_save_filepath = \"Models/V2/XGBoost_\"+targ[0]+\".dat\"\n",
    "\n",
    "#need to separate the train vs predict\n",
    "DataProcc.Train(M_save_filepath) \n",
    "\n"
   ]
  },
  {
   "cell_type": "code",
   "execution_count": null,
   "id": "bae38f6d",
   "metadata": {},
   "outputs": [],
   "source": []
  },
  {
   "cell_type": "code",
   "execution_count": null,
   "id": "86872b80",
   "metadata": {},
   "outputs": [],
   "source": [
    "'''\n",
    "Test the model and make a prediction on the unseen target for the respective water year\n",
    "'''"
   ]
  },
  {
   "cell_type": "code",
   "execution_count": null,
   "id": "3caaf237",
   "metadata": {},
   "outputs": [],
   "source": [
    "#Make a prediction to evaluate each model\n",
    "#XGBoost\n",
    "XGBboost = XGB_Model.XGB_model(targ[0])\n",
    "XGBboost.XGB_Predict(DataProcc.test_feat[DataProcc.Final_Features], DataProcc.test_targs)   \n",
    "#Plot the prediction results\n",
    "XGBboost.PredictionPerformancePlot()\n",
    "\n"
   ]
  },
  {
   "cell_type": "code",
   "execution_count": null,
   "id": "05accb22",
   "metadata": {},
   "outputs": [],
   "source": []
  },
  {
   "cell_type": "code",
   "execution_count": null,
   "id": "5f2db8ee",
   "metadata": {},
   "outputs": [],
   "source": []
  }
 ],
 "metadata": {
  "kernelspec": {
   "display_name": "Python 3 (ipykernel)",
   "language": "python",
   "name": "python3"
  },
  "language_info": {
   "codemirror_mode": {
    "name": "ipython",
    "version": 3
   },
   "file_extension": ".py",
   "mimetype": "text/x-python",
   "name": "python",
   "nbconvert_exporter": "python",
   "pygments_lexer": "ipython3",
   "version": "3.9.7"
  }
 },
 "nbformat": 4,
 "nbformat_minor": 5
}
